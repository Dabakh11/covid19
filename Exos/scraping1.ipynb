{
 "cells": [
  {
   "cell_type": "code",
   "execution_count": 12,
   "metadata": {},
   "outputs": [],
   "source": [
    "from selenium import webdriver\n",
    "from bs4 import BeautifulSoup\n",
    "from selenium.webdriver.firefox.service import Service as FirefoxService\n",
    "from webdriver_manager.firefox import GeckoDriverManager\n",
    "from selenium.webdriver.support.ui import WebDriverWait\n",
    "from selenium.webdriver.support import expected_conditions as EC\n",
    "from selenium.webdriver.common.by import By"
   ]
  },
  {
   "cell_type": "code",
   "execution_count": 13,
   "metadata": {},
   "outputs": [],
   "source": [
    "# Configurer le service Firefox\n",
    "service = FirefoxService(GeckoDriverManager().install())"
   ]
  },
  {
   "cell_type": "code",
   "execution_count": 14,
   "metadata": {},
   "outputs": [],
   "source": [
    "# Configurer le service Firefox\n",
    "service = FirefoxService(GeckoDriverManager().install())\n",
    "\n",
    "driver = webdriver.Firefox(service=service)"
   ]
  },
  {
   "cell_type": "code",
   "execution_count": 15,
   "metadata": {},
   "outputs": [],
   "source": [
    "url = \"https://www.premierleague.com/stats/top/players/goals\""
   ]
  },
  {
   "cell_type": "code",
   "execution_count": 17,
   "metadata": {},
   "outputs": [],
   "source": [
    "driver.get(url)"
   ]
  },
  {
   "cell_type": "code",
   "execution_count": 22,
   "metadata": {},
   "outputs": [],
   "source": [
    "# Fonction pour extraire les données d'une URL spécifique\n",
    "soup = BeautifulSoup(driver.page_source, \"html.parser\")\n",
    "table = soup.find(\"table\")  # Trouver la table contenant les données\n",
    "rows = table.find_all(\"tr\")  # Trouver toutes les lignes de la table\n",
    "headers = [th.text for th in rows[0].find_all(\"th\")]\n",
    "# Extraire les données des joueurs\n",
    "players_data = []\n",
    "for row in rows[1:]:\n",
    "    row_data = [td.text.strip() for td in row.find_all(\"td\")]\n",
    "    players_data.append(row_data)"
   ]
  },
  {
   "cell_type": "code",
   "execution_count": null,
   "metadata": {},
   "outputs": [],
   "source": [
    "driver.get(url)"
   ]
  },
  {
   "cell_type": "code",
   "execution_count": 23,
   "metadata": {},
   "outputs": [
    {
     "data": {
      "text/plain": [
       "(['Rank', 'Player', 'Club', 'Nationality', 'Stat', '\\n\\n\\n\\n'],\n",
       " [['1.', 'Erling Haaland', 'Manchester City', 'Norway', '27', ''],\n",
       "  ['2.', 'Cole Palmer', 'Chelsea', 'England', '22', ''],\n",
       "  ['3.', 'Alexander Isak', 'Newcastle United', 'Sweden', '21', ''],\n",
       "  ['4.', 'Phil Foden', 'Manchester City', 'England', '19', ''],\n",
       "  ['4.', 'Dominic Solanke', 'Bournemouth', 'England', '19', ''],\n",
       "  ['4.', 'Ollie Watkins', 'Aston Villa', 'England', '19', ''],\n",
       "  ['7.', 'Mohamed Salah', 'Liverpool', 'Egypt', '18', ''],\n",
       "  ['8.', 'Son Heung-Min', 'Tottenham Hotspur', 'South Korea', '17', ''],\n",
       "  ['9.', 'Jarrod Bowen', 'West Ham United', 'England', '16', ''],\n",
       "  ['9.', 'Jean-Philippe Mateta', 'Crystal Palace', 'France', '16', '']])"
      ]
     },
     "execution_count": 23,
     "metadata": {},
     "output_type": "execute_result"
    }
   ],
   "source": [
    "extract_stats(url)"
   ]
  },
  {
   "cell_type": "code",
   "execution_count": 33,
   "metadata": {},
   "outputs": [],
   "source": [
    "# URL des meilleurs buteurs\n",
    "url_goals = \"https://www.premierleague.com/stats/top/players/goals\"\n",
    "headers_goals, top_scorers = extract_stats(url_goals)"
   ]
  },
  {
   "cell_type": "code",
   "execution_count": 7,
   "metadata": {},
   "outputs": [],
   "source": [
    "# URL des meilleurs passeurs\n",
    "url_assists = \"https://www.premierleague.com/stats/top/players/goal_assist\"\n",
    "headers_assists, top_assisters = extract_stats(url_assists)"
   ]
  },
  {
   "cell_type": "code",
   "execution_count": 36,
   "metadata": {},
   "outputs": [
    {
     "name": "stdout",
     "output_type": "stream",
     "text": [
      "Meilleurs Buteurs:\n",
      "['Rank', 'Player', 'Club', 'Nationality', 'Stat', '\\n\\n\\n\\n']\n",
      "['1.', 'Erling Haaland', 'Manchester City', 'Norway', '27', '']\n",
      "['2.', 'Cole Palmer', 'Chelsea', 'England', '22', '']\n",
      "['3.', 'Alexander Isak', 'Newcastle United', 'Sweden', '21', '']\n",
      "['4.', 'Phil Foden', 'Manchester City', 'England', '19', '']\n",
      "['4.', 'Dominic Solanke', 'Bournemouth', 'England', '19', '']\n",
      "['4.', 'Ollie Watkins', 'Aston Villa', 'England', '19', '']\n",
      "['7.', 'Mohamed Salah', 'Liverpool', 'Egypt', '18', '']\n",
      "['8.', 'Son Heung-Min', 'Tottenham Hotspur', 'South Korea', '17', '']\n",
      "['9.', 'Jarrod Bowen', 'West Ham United', 'England', '16', '']\n",
      "['9.', 'Jean-Philippe Mateta', 'Crystal Palace', 'France', '16', '']\n"
     ]
    }
   ],
   "source": [
    "# Afficher les meilleurs buteurs\n",
    "print(\"Meilleurs Buteurs:\")\n",
    "print(headers_goals)\n",
    "for player in top_scorers:\n",
    "    print(player)"
   ]
  },
  {
   "cell_type": "code",
   "execution_count": 16,
   "metadata": {},
   "outputs": [
    {
     "name": "stdout",
     "output_type": "stream",
     "text": [
      "\n",
      "Meilleurs Passeurs:\n",
      "['Rank', 'Player', 'Club', 'Nationality', 'Stat', '\\n\\n\\n\\n']\n",
      "['1.', 'Ollie Watkins', 'Aston Villa', 'England', '13', '']\n",
      "['2.', 'Cole Palmer', 'Chelsea', 'England', '11', '']\n",
      "['3.', 'Kevin De Bruyne', 'Manchester City', 'Belgium', '10', '']\n",
      "['3.', 'Morgan Gibbs-White', 'Nottingham Forest', 'England', '10', '']\n",
      "['3.', 'Anthony Gordon', 'Newcastle United', 'England', '10', '']\n",
      "['3.', 'Pascal Groß', 'Brighton & Hove Albion', 'Germany', '10', '']\n",
      "['3.', 'Brennan Johnson', 'Tottenham Hotspur', 'Wales', '10', '']\n",
      "['3.', 'Mohamed Salah', 'Liverpool', 'Egypt', '10', '']\n",
      "['3.', 'Son Heung-Min', 'Tottenham Hotspur', 'South Korea', '10', '']\n",
      "['3.', 'Kieran Trippier', 'Newcastle United', 'England', '10', '']\n"
     ]
    }
   ],
   "source": [
    "# Afficher les meilleurs passeurs\n",
    "print(\"\\nMeilleurs Passeurs:\")\n",
    "print(headers_assists)\n",
    "for player in top_assisters:\n",
    "    print(player)"
   ]
  },
  {
   "cell_type": "code",
   "execution_count": 21,
   "metadata": {},
   "outputs": [],
   "source": [
    "next_button = WebDriverWait(driver, 10).until(EC.element_to_be_clickable((By.CSS_SELECTOR,\".paginationBtn:nth-child(2)\")))\n",
    "next_button.click()"
   ]
  }
 ],
 "metadata": {
  "kernelspec": {
   "display_name": "Python 3",
   "language": "python",
   "name": "python3"
  },
  "language_info": {
   "codemirror_mode": {
    "name": "ipython",
    "version": 3
   },
   "file_extension": ".py",
   "mimetype": "text/x-python",
   "name": "python",
   "nbconvert_exporter": "python",
   "pygments_lexer": "ipython3",
   "version": "3.12.0"
  }
 },
 "nbformat": 4,
 "nbformat_minor": 2
}
